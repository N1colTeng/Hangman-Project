{
 "cells": [
  {
   "cell_type": "markdown",
   "metadata": {},
   "source": [
    "# Trexquant Interview Project (The Hangman Game)\n",
    "\n",
    "* Copyright Trexquant Investment LP. All Rights Reserved. \n",
    "* Redistribution of this question without written consent from Trexquant is prohibited"
   ]
  },
  {
   "cell_type": "markdown",
   "metadata": {},
   "source": [
    "## Instruction:\n",
    "For this coding test, your mission is to write an algorithm that plays the game of Hangman through our API server. \n",
    "\n",
    "When a user plays Hangman, the server first selects a secret word at random from a list. The server then returns a row of underscores (space separated)—one for each letter in the secret word—and asks the user to guess a letter. If the user guesses a letter that is in the word, the word is redisplayed with all instances of that letter shown in the correct positions, along with any letters correctly guessed on previous turns. If the letter does not appear in the word, the user is charged with an incorrect guess. The user keeps guessing letters until either (1) the user has correctly guessed all the letters in the word\n",
    "or (2) the user has made six incorrect guesses.\n",
    "\n",
    "You are required to write a \"guess\" function that takes current word (with underscores) as input and returns a guess letter. You will use the API codes below to play 1,000 Hangman games. You have the opportunity to practice before you want to start recording your game results.\n",
    "\n",
    "Your algorithm is permitted to use a training set of approximately 250,000 dictionary words. Your algorithm will be tested on an entirely disjoint set of 250,000 dictionary words. Please note that this means the words that you will ultimately be tested on do NOT appear in the dictionary that you are given. You are not permitted to use any dictionary other than the training dictionary we provided. This requirement will be strictly enforced by code review.\n",
    "\n",
    "You are provided with a basic, working algorithm. This algorithm will match the provided masked string (e.g. a _ _ l e) to all possible words in the dictionary, tabulate the frequency of letters appearing in these possible words, and then guess the letter with the highest frequency of appearence that has not already been guessed. If there are no remaining words that match then it will default back to the character frequency distribution of the entire dictionary.\n",
    "\n",
    "This benchmark strategy is successful approximately 18% of the time. Your task is to design an algorithm that significantly outperforms this benchmark."
   ]
  },
  {
   "cell_type": "code",
   "execution_count": 1,
   "metadata": {},
   "outputs": [
    {
     "name": "stdout",
     "output_type": "stream",
     "text": [
      "True\n",
      "NVIDIA GeForce RTX 4090\n"
     ]
    }
   ],
   "source": [
    "import torch\n",
    "import numpy as np\n",
    "import random\n",
    "import torch.nn as nn\n",
    "from tqdm import tqdm\n",
    "from math import floor, log2\n",
    "import json\n",
    "print(torch.cuda.is_available())\n",
    "print(torch.cuda.get_device_name(0))"
   ]
  },
  {
   "cell_type": "code",
   "execution_count": 26,
   "metadata": {},
   "outputs": [],
   "source": [
    "with open(\"words_250000_train.txt\", 'r') as f:\n",
    "    words = [line.strip() for line in f if line.strip()]\n",
    "words = [w for w in words if len(w) <= 20]"
   ]
  },
  {
   "cell_type": "code",
   "execution_count": 27,
   "metadata": {},
   "outputs": [],
   "source": [
    "def simulate_state(word: str, bitmask: int):\n",
    "    unique_letters = sorted(set(word))\n",
    "    guessed_letters = {\n",
    "        unique_letters[i]\n",
    "        for i in range(len(unique_letters))\n",
    "        if (bitmask >> i) & 1\n",
    "    }\n",
    "    masked = [c if c in guessed_letters else '_' for c in word]\n",
    "    label = set([c for c in word if c not in guessed_letters and c != '_'])\n",
    "    return {\n",
    "        'masked_word': masked,\n",
    "        'label': label,\n",
    "    }"
   ]
  },
  {
   "cell_type": "code",
   "execution_count": 28,
   "metadata": {},
   "outputs": [],
   "source": [
    "with open(\"tokenized_words_1_masked_letter.jsonl\", \"w\") as f:\n",
    "    for word in words:\n",
    "        k = len(set(word))\n",
    "        for i in range(k):\n",
    "            bitmask = 2**k-2**i-1\n",
    "            result = simulate_state(word, bitmask)\n",
    "            result[\"label\"] = list(result[\"label\"])\n",
    "            f.write(json.dumps(result) + \"\\n\")"
   ]
  },
  {
   "cell_type": "code",
   "execution_count": 29,
   "metadata": {},
   "outputs": [],
   "source": [
    "def encode_state(state, max_length=20):\n",
    "    char_to_id = {c: idx for idx, c in enumerate(\"abcdefghijklmnopqrstuvwxyz\")}\n",
    "    unguessed = 26\n",
    "    pad = 27\n",
    "    \n",
    "    input_id = [\n",
    "        char_to_id[c] if c in char_to_id else unguessed\n",
    "        for c in state['masked_word']\n",
    "    ]\n",
    "    if len(input_id) < max_length:\n",
    "        input_id += [pad] * (max_length - len(input_id))\n",
    "    else:\n",
    "        input_id = input_id[:max_length]\n",
    "    \n",
    "    label_id = [0] * 26\n",
    "    for c in state['label']:\n",
    "        label_id[char_to_id[c]] = 1\n",
    "\n",
    "    return input_id, label_id"
   ]
  },
  {
   "cell_type": "code",
   "execution_count": 30,
   "metadata": {},
   "outputs": [
    {
     "name": "stdout",
     "output_type": "stream",
     "text": [
      "1679114\n"
     ]
    }
   ],
   "source": [
    "with open(\"tokenized_words_1_masked_letter.jsonl\", \"r\") as f:\n",
    "    N = sum(1 for _ in f)\n",
    "\n",
    "print(N)  "
   ]
  },
  {
   "cell_type": "code",
   "execution_count": 31,
   "metadata": {},
   "outputs": [],
   "source": [
    "encoded_words = np.zeros((N, 20), dtype=np.uint8)\n",
    "encoded_labels = np.zeros((N, 26), dtype=np.uint8)\n",
    "attention_masks = np.zeros((N, 20), dtype=np.uint8)\n",
    "\n",
    "with open(\"tokenized_words_1_masked_letter.jsonl\", \"r\") as f:\n",
    "    for i, line in enumerate(f):\n",
    "        state = json.loads(line)\n",
    "        input_id, label_id = encode_state(state)\n",
    "        mask = [0 if token == 27 else 1 for token in input_id]\n",
    "\n",
    "        encoded_words[i] = input_id\n",
    "        encoded_labels[i] = label_id\n",
    "        attention_masks[i] = mask"
   ]
  },
  {
   "cell_type": "code",
   "execution_count": 32,
   "metadata": {},
   "outputs": [
    {
     "name": "stdout",
     "output_type": "stream",
     "text": [
      "Input Tensor: torch.Size([1679114, 20])\n",
      "Label Tensor: torch.Size([1679114, 26])\n",
      "Mask Tensor: torch.Size([1679114, 20])\n"
     ]
    }
   ],
   "source": [
    "input_tensor = torch.tensor(encoded_words, dtype=torch.long)\n",
    "label_tensor = torch.tensor(encoded_labels, dtype=torch.float64)\n",
    "mask_tensor = torch.tensor(attention_masks, dtype=torch.bool)\n",
    "\n",
    "print(\"Input Tensor:\", input_tensor.shape)\n",
    "print(\"Label Tensor:\", label_tensor.shape)\n",
    "print(\"Mask Tensor:\", mask_tensor.shape)"
   ]
  },
  {
   "cell_type": "code",
   "execution_count": 33,
   "metadata": {},
   "outputs": [],
   "source": [
    "from sklearn.model_selection import train_test_split\n",
    "\n",
    "train_inputs, val_inputs, train_labels, val_labels, train_masks, val_masks = train_test_split(\n",
    "    input_tensor, label_tensor, mask_tensor, test_size=0.1, random_state=42\n",
    ")"
   ]
  },
  {
   "cell_type": "code",
   "execution_count": 34,
   "metadata": {},
   "outputs": [],
   "source": [
    "from torch.utils.data import TensorDataset\n",
    "\n",
    "train_dataset = TensorDataset(train_inputs, train_masks, train_labels)\n",
    "val_dataset = TensorDataset(val_inputs, val_masks, val_labels)"
   ]
  },
  {
   "cell_type": "code",
   "execution_count": 35,
   "metadata": {},
   "outputs": [],
   "source": [
    "from torch.utils.data import DataLoader\n",
    "\n",
    "train_loader = DataLoader(train_dataset, batch_size=64, shuffle=True)\n",
    "val_loader = DataLoader(val_dataset, batch_size=64)"
   ]
  },
  {
   "cell_type": "code",
   "execution_count": 2,
   "metadata": {},
   "outputs": [],
   "source": [
    "class HangmanTransformer(nn.Module):\n",
    "    def __init__(self, vocab_size=28, embed_dim=128, num_heads=4, num_layers=6, max_seq_len=20, num_classes=26):\n",
    "        super().__init__()\n",
    "        \n",
    "        self.token_embedding = nn.Embedding(vocab_size, embed_dim)\n",
    "        self.pos_embedding = nn.Embedding(max_seq_len, embed_dim)\n",
    "\n",
    "        encoder_layer = nn.TransformerEncoderLayer(d_model=embed_dim, nhead=num_heads, batch_first=True)\n",
    "        self.transformer = nn.TransformerEncoder(encoder_layer, num_layers=num_layers)\n",
    "\n",
    "        self.classifier = nn.Linear(embed_dim, num_classes)\n",
    "\n",
    "    def forward(self, input_ids, attention_mask):\n",
    "        positions = torch.arange(input_ids.size(1), device=input_ids.device)\n",
    "        positions = positions.unsqueeze(0).expand(input_ids.size(0), -1)\n",
    "        \n",
    "        x = self.token_embedding(input_ids) + self.pos_embedding(positions)\n",
    "\n",
    "        src_key_padding_mask = ~attention_mask.bool()\n",
    "        x = self.transformer(x, src_key_padding_mask=src_key_padding_mask)\n",
    "\n",
    "        mask = attention_mask.unsqueeze(-1)\n",
    "        x = (x * mask).sum(1) / mask.sum(1)\n",
    "\n",
    "        logits = self.classifier(x)\n",
    "        return logits"
   ]
  },
  {
   "cell_type": "code",
   "execution_count": 37,
   "metadata": {},
   "outputs": [],
   "source": [
    "model = HangmanTransformer()\n",
    "model.load_state_dict(torch.load(\"hangman_model_multilabel_6.pt\", weights_only=True))\n",
    "device = torch.device(\"cuda\" if torch.cuda.is_available() else \"cpu\")\n",
    "model.to(device)\n",
    "\n",
    "optimizer = torch.optim.AdamW(model.parameters(), lr=1e-5)\n",
    "criterion = torch.nn.BCEWithLogitsLoss()"
   ]
  },
  {
   "cell_type": "code",
   "execution_count": 38,
   "metadata": {},
   "outputs": [],
   "source": [
    "def train_one_epoch(model, dataloader):\n",
    "    model.train()\n",
    "    total_loss, correct, total = 0, 0, 0\n",
    "\n",
    "    for input_ids, attention_mask, labels in tqdm(dataloader, desc=\"Training\"):\n",
    "        input_ids = input_ids.to(device)\n",
    "        attention_mask = attention_mask.to(device)\n",
    "        labels = labels.to(device)\n",
    "\n",
    "        optimizer.zero_grad()\n",
    "        logits = model(input_ids, attention_mask)\n",
    "        loss = criterion(logits, labels)\n",
    "        loss.backward()\n",
    "        optimizer.step()\n",
    "\n",
    "        total_loss += loss.item() * input_ids.size(0)\n",
    "        preds = logits.argmax(dim=1)\n",
    "        correct += (labels.gather(1, preds.unsqueeze(1)) == 1).sum().item()\n",
    "        total += labels.size(0)\n",
    "\n",
    "    avg_loss = total_loss / total\n",
    "    accuracy = correct / total\n",
    "    return avg_loss, accuracy\n",
    "\n",
    "def validate(model, dataloader):\n",
    "    model.eval()\n",
    "    total_loss, correct, total = 0, 0, 0\n",
    "\n",
    "    with torch.no_grad():\n",
    "        for input_ids, attention_mask, labels in tqdm(dataloader, desc=\"Validation\"):\n",
    "            input_ids = input_ids.to(device)\n",
    "            attention_mask = attention_mask.to(device)\n",
    "            labels = labels.to(device)\n",
    "\n",
    "            logits = model(input_ids, attention_mask)\n",
    "            loss = criterion(logits, labels)\n",
    "\n",
    "            total_loss += loss.item() * input_ids.size(0)\n",
    "            preds = logits.argmax(dim=1)\n",
    "            correct += (labels.gather(1, preds.unsqueeze(1)) == 1).sum().item()\n",
    "            total += labels.size(0)\n",
    "\n",
    "    avg_loss = total_loss / total\n",
    "    accuracy = correct / total\n",
    "    return avg_loss, accuracy"
   ]
  },
  {
   "cell_type": "code",
   "execution_count": 39,
   "metadata": {},
   "outputs": [
    {
     "name": "stderr",
     "output_type": "stream",
     "text": [
      "Training: 100%|█████████████████████████| 23613/23613 [03:53<00:00, 101.34it/s]\n",
      "Validation: 100%|█████████████████████████| 2624/2624 [00:12<00:00, 207.72it/s]\n"
     ]
    },
    {
     "name": "stdout",
     "output_type": "stream",
     "text": [
      "\n",
      "Epoch 1\n",
      "Train     | Loss: 0.0522  Acc: 0.7176\n",
      "Validation| Loss: 0.0465  Acc: 0.7462\n",
      "\n"
     ]
    },
    {
     "name": "stderr",
     "output_type": "stream",
     "text": [
      "Training: 100%|█████████████████████████| 23613/23613 [03:49<00:00, 102.95it/s]\n",
      "Validation: 100%|█████████████████████████| 2624/2624 [00:11<00:00, 226.62it/s]\n"
     ]
    },
    {
     "name": "stdout",
     "output_type": "stream",
     "text": [
      "\n",
      "Epoch 2\n",
      "Train     | Loss: 0.0495  Acc: 0.7279\n",
      "Validation| Loss: 0.0453  Acc: 0.7514\n",
      "\n"
     ]
    },
    {
     "name": "stderr",
     "output_type": "stream",
     "text": [
      "Training: 100%|█████████████████████████| 23613/23613 [03:51<00:00, 101.99it/s]\n",
      "Validation: 100%|█████████████████████████| 2624/2624 [00:12<00:00, 210.91it/s]\n"
     ]
    },
    {
     "name": "stdout",
     "output_type": "stream",
     "text": [
      "\n",
      "Epoch 3\n",
      "Train     | Loss: 0.0483  Acc: 0.7334\n",
      "Validation| Loss: 0.0446  Acc: 0.7539\n",
      "\n"
     ]
    },
    {
     "name": "stderr",
     "output_type": "stream",
     "text": [
      "Training: 100%|█████████████████████████| 23613/23613 [03:50<00:00, 102.53it/s]\n",
      "Validation: 100%|█████████████████████████| 2624/2624 [00:12<00:00, 206.57it/s]\n"
     ]
    },
    {
     "name": "stdout",
     "output_type": "stream",
     "text": [
      "\n",
      "Epoch 4\n",
      "Train     | Loss: 0.0474  Acc: 0.7384\n",
      "Validation| Loss: 0.0441  Acc: 0.7572\n",
      "\n"
     ]
    },
    {
     "name": "stderr",
     "output_type": "stream",
     "text": [
      "Training: 100%|█████████████████████████| 23613/23613 [03:54<00:00, 100.83it/s]\n",
      "Validation: 100%|█████████████████████████| 2624/2624 [00:12<00:00, 216.67it/s]"
     ]
    },
    {
     "name": "stdout",
     "output_type": "stream",
     "text": [
      "\n",
      "Epoch 5\n",
      "Train     | Loss: 0.0466  Acc: 0.7416\n",
      "Validation| Loss: 0.0436  Acc: 0.7599\n",
      "\n"
     ]
    },
    {
     "name": "stderr",
     "output_type": "stream",
     "text": [
      "\n"
     ]
    }
   ],
   "source": [
    "for epoch in range(1, 6):\n",
    "    train_loss, train_acc = train_one_epoch(model, train_loader)\n",
    "    val_loss, val_acc = validate(model, val_loader)\n",
    "\n",
    "    print(f\"\\nEpoch {epoch}\")\n",
    "    print(f\"Train     | Loss: {train_loss:.4f}  Acc: {train_acc:.4f}\")\n",
    "    print(f\"Validation| Loss: {val_loss:.4f}  Acc: {val_acc:.4f}\\n\")"
   ]
  },
  {
   "cell_type": "code",
   "execution_count": 40,
   "metadata": {},
   "outputs": [],
   "source": [
    "torch.save(model.state_dict(), \"hangman_model_multilabel_6_fine_tuned.pt\")"
   ]
  },
  {
   "cell_type": "code",
   "execution_count": 3,
   "metadata": {},
   "outputs": [
    {
     "data": {
      "text/plain": [
       "HangmanTransformer(\n",
       "  (token_embedding): Embedding(28, 128)\n",
       "  (pos_embedding): Embedding(20, 128)\n",
       "  (transformer): TransformerEncoder(\n",
       "    (layers): ModuleList(\n",
       "      (0-5): 6 x TransformerEncoderLayer(\n",
       "        (self_attn): MultiheadAttention(\n",
       "          (out_proj): NonDynamicallyQuantizableLinear(in_features=128, out_features=128, bias=True)\n",
       "        )\n",
       "        (linear1): Linear(in_features=128, out_features=2048, bias=True)\n",
       "        (dropout): Dropout(p=0.1, inplace=False)\n",
       "        (linear2): Linear(in_features=2048, out_features=128, bias=True)\n",
       "        (norm1): LayerNorm((128,), eps=1e-05, elementwise_affine=True)\n",
       "        (norm2): LayerNorm((128,), eps=1e-05, elementwise_affine=True)\n",
       "        (dropout1): Dropout(p=0.1, inplace=False)\n",
       "        (dropout2): Dropout(p=0.1, inplace=False)\n",
       "      )\n",
       "    )\n",
       "  )\n",
       "  (classifier): Linear(in_features=128, out_features=26, bias=True)\n",
       ")"
      ]
     },
     "execution_count": 3,
     "metadata": {},
     "output_type": "execute_result"
    }
   ],
   "source": [
    "model = HangmanTransformer()\n",
    "model.load_state_dict(torch.load(\"hangman_model_multilabel_6_fine_tuned.pt\", weights_only=True))\n",
    "device = torch.device(\"cuda\" if torch.cuda.is_available() else \"cpu\")\n",
    "model.to(device)\n",
    "model.eval()"
   ]
  },
  {
   "cell_type": "code",
   "execution_count": 4,
   "metadata": {
    "scrolled": true
   },
   "outputs": [],
   "source": [
    "import json\n",
    "import requests\n",
    "import random\n",
    "import string\n",
    "import secrets\n",
    "import time\n",
    "import re\n",
    "import collections\n",
    "\n",
    "try:\n",
    "    from urllib.parse import parse_qs, urlencode, urlparse\n",
    "except ImportError:\n",
    "    from urlparse import parse_qs, urlparse\n",
    "    from urllib import urlencode\n",
    "\n",
    "from requests.packages.urllib3.exceptions import InsecureRequestWarning\n",
    "\n",
    "requests.packages.urllib3.disable_warnings(InsecureRequestWarning)"
   ]
  },
  {
   "cell_type": "code",
   "execution_count": 16,
   "metadata": {},
   "outputs": [],
   "source": [
    "class HangmanAPI(object):\n",
    "    def __init__(self, access_token=None, session=None, timeout=None):\n",
    "        self.hangman_url = self.determine_hangman_url()\n",
    "        self.access_token = access_token\n",
    "        self.session = session or requests.Session()\n",
    "        self.timeout = timeout\n",
    "        self.guessed_letters = []\n",
    "        \n",
    "        full_dictionary_location = \"words_250000_train.txt\"\n",
    "        self.full_dictionary = self.build_dictionary(full_dictionary_location)        \n",
    "        self.full_dictionary_common_letter_sorted = collections.Counter(\"\".join(self.full_dictionary)).most_common()\n",
    "        \n",
    "        self.current_dictionary = []\n",
    "        \n",
    "    @staticmethod\n",
    "    def determine_hangman_url():\n",
    "        links = ['https://trexsim.com']\n",
    "\n",
    "        data = {link: 0 for link in links}\n",
    "\n",
    "        for link in links:\n",
    "\n",
    "            requests.get(link)\n",
    "\n",
    "            for i in range(10):\n",
    "                s = time.time()\n",
    "                requests.get(link)\n",
    "                data[link] = time.time() - s\n",
    "\n",
    "        link = sorted(data.items(), key=lambda x: x[1])[0][0]\n",
    "        link += '/trexsim/hangman'\n",
    "        return link\n",
    "\n",
    "    def guess(self, word): # word input example: \"_ p p _ e \"\n",
    "        letters = word.strip().split()\n",
    "        guessed_letters = self.guessed_letters\n",
    "\n",
    "        #this is given by chatgpt\n",
    "        freq_by_length = {\n",
    "            1: ['a', 'i', 'o', 'e', 'u', 'y'],\n",
    "            2: ['a', 'e', 'o', 'i', 'n', 's'],\n",
    "            3: ['e', 'a', 'o', 'r', 'i', 'n'],\n",
    "            4: ['e', 'a', 'r', 'o', 't', 'i'],\n",
    "            5: ['e', 'a', 'r', 'o', 't', 'i'],\n",
    "            6: ['e', 'a', 'r', 'n', 't', 'i'],\n",
    "            7: ['e', 'a', 'n', 'r', 't', 'i'],\n",
    "            8: ['e', 'n', 'a', 'r', 'i', 't'],\n",
    "            9: ['e', 'n', 'a', 'i', 'o', 'r'],\n",
    "            10: ['e', 'n', 'a', 'r', 'i', 'o'],\n",
    "            11: ['e', 'n', 't', 'a', 'r', 'i'],\n",
    "            12: ['e', 'n', 't', 'a', 'i', 'r'],\n",
    "            13: ['e', 'n', 't', 'a', 'r', 'i'],\n",
    "            14: ['e', 'n', 't', 'a', 'i', 'r'],\n",
    "            15: ['e', 'n', 't', 'a', 'r', 'i'],\n",
    "            16: ['e', 'n', 't', 'a', 'i', 'r'],\n",
    "            17: ['e', 'n', 't', 'a', 'r', 'i'],\n",
    "            18: ['e', 'n', 't', 'a', 'i', 'r'],\n",
    "            19: ['e', 'n', 't', 'a', 'r', 'i'],\n",
    "            20: ['e', 'n', 't', 'a', 'i', 'r']\n",
    "        }\n",
    "\n",
    "        word_len = len(letters)\n",
    "\n",
    "        if all(c == '_' for c in letters):\n",
    "            for letter in freq_by_length[min(word_len, 20)]:\n",
    "                if letter not in guessed_letters:\n",
    "                    return letter\n",
    "        \n",
    "        char_to_id = {c: idx for idx, c in enumerate(\"abcdefghijklmnopqrstuvwxyz\")}\n",
    "        unguessed = 26\n",
    "        pad = 27     \n",
    "        max_length = 20\n",
    "\n",
    "        input_id = [\n",
    "                char_to_id[c] if c in char_to_id else unguessed\n",
    "                for c in letters\n",
    "            ]\n",
    "        if len(input_id) < max_length:\n",
    "            input_id += [pad] * (max_length - len(input_id))\n",
    "        else:\n",
    "            input_id = input_id[:max_length]\n",
    "        attention_mask = [1 if t != pad else 0 for t in input_id]\n",
    "\n",
    "        input_tensor = torch.tensor([input_id], dtype=torch.long).to(device)\n",
    "        mask_tensor = torch.tensor([attention_mask], dtype=torch.bool).to(device)\n",
    "\n",
    "        with torch.no_grad():\n",
    "            logits = model(input_tensor, mask_tensor)\n",
    "\n",
    "            for c in guessed_letters:\n",
    "                if c in char_to_id:\n",
    "                    logits[0, char_to_id[c]] = -float('inf')\n",
    "\n",
    "            pred = logits.argmax(dim=1).item()\n",
    "            return chr(pred + ord('a'))\n",
    "\n",
    "    ##########################################################\n",
    "    # You'll likely not need to modify any of the code below #\n",
    "    ##########################################################\n",
    "    \n",
    "    def build_dictionary(self, dictionary_file_location):\n",
    "        text_file = open(dictionary_file_location,\"r\")\n",
    "        full_dictionary = text_file.read().splitlines()\n",
    "        text_file.close()\n",
    "        return full_dictionary\n",
    "                \n",
    "    def start_game(self, practice=True, verbose=True):\n",
    "        # reset guessed letters to empty set and current plausible dictionary to the full dictionary\n",
    "        self.guessed_letters = []\n",
    "        self.current_dictionary = self.full_dictionary\n",
    "                         \n",
    "        response = self.request(\"/new_game\", {\"practice\":practice})\n",
    "        if response.get('status')==\"approved\":\n",
    "            game_id = response.get('game_id')\n",
    "            word = response.get('word')\n",
    "            tries_remains = response.get('tries_remains')\n",
    "            if verbose:\n",
    "                print(\"Successfully start a new game! Game ID: {0}. # of tries remaining: {1}. Word: {2}.\".format(game_id, tries_remains, word))\n",
    "            while tries_remains>0:\n",
    "                # get guessed letter from user code\n",
    "                guess_letter = self.guess(word)\n",
    "                    \n",
    "                # append guessed letter to guessed letters field in hangman object\n",
    "                self.guessed_letters.append(guess_letter)\n",
    "                if verbose:\n",
    "                    print(\"Guessing letter: {0}\".format(guess_letter))\n",
    "                    \n",
    "                try:    \n",
    "                    res = self.request(\"/guess_letter\", {\"request\":\"guess_letter\", \"game_id\":game_id, \"letter\":guess_letter})\n",
    "                except HangmanAPIError:\n",
    "                    print('HangmanAPIError exception caught on request.')\n",
    "                    continue\n",
    "                except Exception as e:\n",
    "                    print('Other exception caught on request.')\n",
    "                    raise e\n",
    "               \n",
    "                if verbose:\n",
    "                    print(\"Sever response: {0}\".format(res))\n",
    "                status = res.get('status')\n",
    "                tries_remains = res.get('tries_remains')\n",
    "                if status==\"success\":\n",
    "                    if verbose:\n",
    "                        print(\"Successfully finished game: {0}\".format(game_id))\n",
    "                    return True\n",
    "                elif status==\"failed\":\n",
    "                    reason = res.get('reason', '# of tries exceeded!')\n",
    "                    if verbose:\n",
    "                        print(\"Failed game: {0}. Because of: {1}\".format(game_id, reason))\n",
    "                    return False\n",
    "                elif status==\"ongoing\":\n",
    "                    word = res.get('word')\n",
    "        else:\n",
    "            if verbose:\n",
    "                print(\"Failed to start a new game\")\n",
    "        return status==\"success\"\n",
    "        \n",
    "    def my_status(self):\n",
    "        return self.request(\"/my_status\", {})\n",
    "    \n",
    "    def request(\n",
    "            self, path, args=None, post_args=None, method=None):\n",
    "        if args is None:\n",
    "            args = dict()\n",
    "        if post_args is not None:\n",
    "            method = \"POST\"\n",
    "\n",
    "        # Add `access_token` to post_args or args if it has not already been\n",
    "        # included.\n",
    "        if self.access_token:\n",
    "            # If post_args exists, we assume that args either does not exists\n",
    "            # or it does not need `access_token`.\n",
    "            if post_args and \"access_token\" not in post_args:\n",
    "                post_args[\"access_token\"] = self.access_token\n",
    "            elif \"access_token\" not in args:\n",
    "                args[\"access_token\"] = self.access_token\n",
    "\n",
    "        time.sleep(0.2)\n",
    "\n",
    "        num_retry, time_sleep = 50, 2\n",
    "        for it in range(num_retry):\n",
    "            try:\n",
    "                response = self.session.request(\n",
    "                    method or \"GET\",\n",
    "                    self.hangman_url + path,\n",
    "                    timeout=self.timeout,\n",
    "                    params=args,\n",
    "                    data=post_args,\n",
    "                    verify=False\n",
    "                )\n",
    "                break\n",
    "            except requests.HTTPError as e:\n",
    "                response = json.loads(e.read())\n",
    "                raise HangmanAPIError(response)\n",
    "            except requests.exceptions.SSLError as e:\n",
    "                if it + 1 == num_retry:\n",
    "                    raise\n",
    "                time.sleep(time_sleep)\n",
    "\n",
    "        headers = response.headers\n",
    "        if 'json' in headers['content-type']:\n",
    "            result = response.json()\n",
    "        elif \"access_token\" in parse_qs(response.text):\n",
    "            query_str = parse_qs(response.text)\n",
    "            if \"access_token\" in query_str:\n",
    "                result = {\"access_token\": query_str[\"access_token\"][0]}\n",
    "                if \"expires\" in query_str:\n",
    "                    result[\"expires\"] = query_str[\"expires\"][0]\n",
    "            else:\n",
    "                raise HangmanAPIError(response.json())\n",
    "        else:\n",
    "            raise HangmanAPIError('Maintype was not text, or querystring')\n",
    "\n",
    "        if result and isinstance(result, dict) and result.get(\"error\"):\n",
    "            raise HangmanAPIError(result)\n",
    "        return result\n",
    "    \n",
    "class HangmanAPIError(Exception):\n",
    "    def __init__(self, result):\n",
    "        self.result = result\n",
    "        self.code = None\n",
    "        try:\n",
    "            self.type = result[\"error_code\"]\n",
    "        except (KeyError, TypeError):\n",
    "            self.type = \"\"\n",
    "\n",
    "        try:\n",
    "            self.message = result[\"error_description\"]\n",
    "        except (KeyError, TypeError):\n",
    "            try:\n",
    "                self.message = result[\"error\"][\"message\"]\n",
    "                self.code = result[\"error\"].get(\"code\")\n",
    "                if not self.type:\n",
    "                    self.type = result[\"error\"].get(\"type\", \"\")\n",
    "            except (KeyError, TypeError):\n",
    "                try:\n",
    "                    self.message = result[\"error_msg\"]\n",
    "                except (KeyError, TypeError):\n",
    "                    self.message = result\n",
    "\n",
    "        Exception.__init__(self, self.message)"
   ]
  },
  {
   "cell_type": "markdown",
   "metadata": {},
   "source": [
    "# API Usage Examples"
   ]
  },
  {
   "cell_type": "markdown",
   "metadata": {},
   "source": [
    "## To start a new game:\n",
    "1. Make sure you have implemented your own \"guess\" method.\n",
    "2. Use the access_token that we sent you to create your HangmanAPI object. \n",
    "3. Start a game by calling \"start_game\" method.\n",
    "4. If you wish to test your function without being recorded, set \"practice\" parameter to 1.\n",
    "5. Note: You have a rate limit of 20 new games per minute. DO NOT start more than 20 new games within one minute."
   ]
  },
  {
   "cell_type": "code",
   "execution_count": 17,
   "metadata": {},
   "outputs": [],
   "source": [
    "api = HangmanAPI(access_token=\"a848c1cbd6ffd0bea60f09717a490b\", timeout=2000)\n"
   ]
  },
  {
   "cell_type": "markdown",
   "metadata": {},
   "source": [
    "## Playing practice games:\n",
    "You can use the command below to play up to 100,000 practice games."
   ]
  },
  {
   "cell_type": "code",
   "execution_count": 13,
   "metadata": {
    "scrolled": true
   },
   "outputs": [
    {
     "name": "stdout",
     "output_type": "stream",
     "text": [
      "Successfully start a new game! Game ID: b293fca8f0ab. # of tries remaining: 6. Word: _ _ _ _ _ _ _ _ _ _ _ .\n",
      "Guessing letter: e\n",
      "Sever response: {'game_id': 'b293fca8f0ab', 'status': 'ongoing', 'tries_remains': 6, 'word': '_ _ e _ _ _ e _ _ _ e '}\n",
      "Guessing letter: l\n",
      "Sever response: {'game_id': 'b293fca8f0ab', 'status': 'ongoing', 'tries_remains': 6, 'word': '_ _ e _ _ l e _ _ _ e '}\n",
      "Guessing letter: t\n",
      "Sever response: {'game_id': 'b293fca8f0ab', 'status': 'ongoing', 'tries_remains': 6, 'word': '_ _ e t t l e _ _ _ e '}\n",
      "Guessing letter: s\n",
      "Sever response: {'game_id': 'b293fca8f0ab', 'status': 'ongoing', 'tries_remains': 5, 'word': '_ _ e t t l e _ _ _ e '}\n",
      "Guessing letter: p\n",
      "Sever response: {'game_id': 'b293fca8f0ab', 'status': 'ongoing', 'tries_remains': 4, 'word': '_ _ e t t l e _ _ _ e '}\n",
      "Guessing letter: i\n",
      "Sever response: {'game_id': 'b293fca8f0ab', 'status': 'ongoing', 'tries_remains': 3, 'word': '_ _ e t t l e _ _ _ e '}\n",
      "Guessing letter: n\n",
      "Sever response: {'game_id': 'b293fca8f0ab', 'status': 'ongoing', 'tries_remains': 3, 'word': '_ _ e t t l e _ _ n e '}\n",
      "Guessing letter: o\n",
      "Sever response: {'game_id': 'b293fca8f0ab', 'status': 'ongoing', 'tries_remains': 3, 'word': '_ _ e t t l e _ o n e '}\n",
      "Guessing letter: b\n",
      "Sever response: {'game_id': 'b293fca8f0ab', 'status': 'ongoing', 'tries_remains': 3, 'word': '_ _ e t t l e b o n e '}\n",
      "Guessing letter: c\n",
      "Sever response: {'game_id': 'b293fca8f0ab', 'status': 'ongoing', 'tries_remains': 2, 'word': '_ _ e t t l e b o n e '}\n",
      "Guessing letter: h\n",
      "Sever response: {'game_id': 'b293fca8f0ab', 'status': 'ongoing', 'tries_remains': 2, 'word': '_ h e t t l e b o n e '}\n",
      "Guessing letter: w\n",
      "Sever response: {'game_id': 'b293fca8f0ab', 'status': 'success', 'tries_remains': 2, 'word': 'w h e t t l e b o n e '}\n",
      "Successfully finished game: b293fca8f0ab\n",
      "run 3998 practice games out of an allotted 100,000. practice success rate so far = 0.561\n",
      "Successfully start a new game! Game ID: 441f11b3a179. # of tries remaining: 6. Word: _ _ _ _ _ _ _ _ _ .\n",
      "Guessing letter: e\n",
      "Sever response: {'game_id': '441f11b3a179', 'status': 'ongoing', 'tries_remains': 6, 'word': '_ _ _ _ _ e _ e _ '}\n",
      "Guessing letter: r\n",
      "Sever response: {'game_id': '441f11b3a179', 'status': 'ongoing', 'tries_remains': 6, 'word': '_ _ _ _ _ e r e _ '}\n",
      "Guessing letter: d\n",
      "Sever response: {'game_id': '441f11b3a179', 'status': 'ongoing', 'tries_remains': 5, 'word': '_ _ _ _ _ e r e _ '}\n",
      "Guessing letter: t\n",
      "Sever response: {'game_id': '441f11b3a179', 'status': 'ongoing', 'tries_remains': 4, 'word': '_ _ _ _ _ e r e _ '}\n",
      "Guessing letter: l\n",
      "Sever response: {'game_id': '441f11b3a179', 'status': 'ongoing', 'tries_remains': 3, 'word': '_ _ _ _ _ e r e _ '}\n",
      "Guessing letter: s\n",
      "Sever response: {'game_id': '441f11b3a179', 'status': 'ongoing', 'tries_remains': 3, 'word': '_ _ _ _ _ e r e s '}\n",
      "Guessing letter: o\n",
      "Sever response: {'game_id': '441f11b3a179', 'status': 'ongoing', 'tries_remains': 2, 'word': '_ _ _ _ _ e r e s '}\n",
      "Guessing letter: c\n",
      "Sever response: {'game_id': '441f11b3a179', 'status': 'ongoing', 'tries_remains': 1, 'word': '_ _ _ _ _ e r e s '}\n",
      "Guessing letter: p\n",
      "Sever response: {'game_id': '441f11b3a179', 'status': 'failed', 'tries_remains': 0, 'word': '_ _ _ _ _ e r e s '}\n",
      "Failed game: 441f11b3a179. Because of: # of tries exceeded!\n",
      "run 3999 practice games out of an allotted 100,000. practice success rate so far = 0.560\n",
      "Successfully start a new game! Game ID: 0d1977ae431c. # of tries remaining: 6. Word: _ _ _ _ _ _ _ _ _ _ _ .\n",
      "Guessing letter: e\n",
      "Sever response: {'game_id': '0d1977ae431c', 'status': 'ongoing', 'tries_remains': 6, 'word': '_ _ _ _ _ _ _ _ e _ e '}\n",
      "Guessing letter: a\n",
      "Sever response: {'game_id': '0d1977ae431c', 'status': 'ongoing', 'tries_remains': 6, 'word': '_ a _ _ _ a _ _ e _ e '}\n",
      "Guessing letter: c\n",
      "Sever response: {'game_id': '0d1977ae431c', 'status': 'ongoing', 'tries_remains': 5, 'word': '_ a _ _ _ a _ _ e _ e '}\n",
      "Guessing letter: n\n",
      "Sever response: {'game_id': '0d1977ae431c', 'status': 'ongoing', 'tries_remains': 4, 'word': '_ a _ _ _ a _ _ e _ e '}\n",
      "Guessing letter: s\n",
      "Sever response: {'game_id': '0d1977ae431c', 'status': 'ongoing', 'tries_remains': 4, 'word': '_ a _ s _ a _ _ e s e '}\n",
      "Guessing letter: t\n",
      "Sever response: {'game_id': '0d1977ae431c', 'status': 'ongoing', 'tries_remains': 3, 'word': '_ a _ s _ a _ _ e s e '}\n",
      "Guessing letter: m\n",
      "Sever response: {'game_id': '0d1977ae431c', 'status': 'ongoing', 'tries_remains': 3, 'word': 'm a _ s _ a _ _ e s e '}\n",
      "Guessing letter: r\n",
      "Sever response: {'game_id': '0d1977ae431c', 'status': 'ongoing', 'tries_remains': 3, 'word': 'm a r s _ a _ _ e s e '}\n",
      "Guessing letter: h\n",
      "Sever response: {'game_id': '0d1977ae431c', 'status': 'ongoing', 'tries_remains': 3, 'word': 'm a r s h a _ _ e s e '}\n",
      "Guessing letter: l\n",
      "Sever response: {'game_id': '0d1977ae431c', 'status': 'success', 'tries_remains': 3, 'word': 'm a r s h a l l e s e '}\n",
      "Successfully finished game: 0d1977ae431c\n",
      "run 4000 practice games out of an allotted 100,000. practice success rate so far = 0.560\n"
     ]
    }
   ],
   "source": [
    "for i in range(3):\n",
    "    api.start_game(practice=1,verbose=True)\n",
    "    [total_practice_runs,total_recorded_runs,total_recorded_successes,total_practice_successes] = api.my_status() # Get my game stats: (# of tries, # of wins)\n",
    "    practice_success_rate = total_practice_successes / total_practice_runs\n",
    "    print('run %d practice games out of an allotted 100,000. practice success rate so far = %.3f' % (total_practice_runs, practice_success_rate))\n"
   ]
  },
  {
   "cell_type": "markdown",
   "metadata": {},
   "source": [
    "## Playing recorded games:\n",
    "Please finalize your code prior to running the cell below. Once this code executes once successfully your submission will be finalized. Our system will not allow you to rerun any additional games.\n",
    "\n",
    "Please note that it is expected that after you successfully run this block of code that subsequent runs will result in the error message \"Your account has been deactivated\".\n",
    "\n",
    "Once you've run this section of the code your submission is complete. Please send us your source code via email."
   ]
  },
  {
   "cell_type": "code",
   "execution_count": 18,
   "metadata": {},
   "outputs": [
    {
     "name": "stdout",
     "output_type": "stream",
     "text": [
      "Playing  0  th game\n",
      "Playing  1  th game\n",
      "Playing  2  th game\n",
      "Playing  3  th game\n",
      "Playing  4  th game\n",
      "Playing  5  th game\n",
      "Playing  6  th game\n",
      "Playing  7  th game\n",
      "Playing  8  th game\n",
      "Playing  9  th game\n",
      "Playing  10  th game\n",
      "Playing  11  th game\n",
      "Playing  12  th game\n",
      "Playing  13  th game\n",
      "Playing  14  th game\n",
      "Playing  15  th game\n",
      "Playing  16  th game\n",
      "Playing  17  th game\n",
      "Playing  18  th game\n",
      "Playing  19  th game\n",
      "Playing  20  th game\n",
      "Playing  21  th game\n",
      "Playing  22  th game\n",
      "Playing  23  th game\n",
      "Playing  24  th game\n",
      "Playing  25  th game\n",
      "Playing  26  th game\n",
      "Playing  27  th game\n",
      "Playing  28  th game\n",
      "Playing  29  th game\n",
      "Playing  30  th game\n",
      "Playing  31  th game\n",
      "Playing  32  th game\n",
      "Playing  33  th game\n",
      "Playing  34  th game\n",
      "Playing  35  th game\n",
      "Playing  36  th game\n",
      "Playing  37  th game\n",
      "Playing  38  th game\n",
      "Playing  39  th game\n",
      "Playing  40  th game\n",
      "Playing  41  th game\n",
      "Playing  42  th game\n",
      "Playing  43  th game\n",
      "Playing  44  th game\n",
      "Playing  45  th game\n",
      "Playing  46  th game\n",
      "Playing  47  th game\n",
      "Playing  48  th game\n",
      "Playing  49  th game\n",
      "Playing  50  th game\n",
      "Playing  51  th game\n",
      "Playing  52  th game\n",
      "Playing  53  th game\n",
      "Playing  54  th game\n",
      "Playing  55  th game\n",
      "Playing  56  th game\n",
      "Playing  57  th game\n",
      "Playing  58  th game\n",
      "Playing  59  th game\n",
      "Playing  60  th game\n",
      "Playing  61  th game\n",
      "Playing  62  th game\n",
      "Playing  63  th game\n",
      "Playing  64  th game\n",
      "Playing  65  th game\n",
      "Playing  66  th game\n",
      "Playing  67  th game\n",
      "Playing  68  th game\n",
      "Playing  69  th game\n",
      "Playing  70  th game\n",
      "Playing  71  th game\n",
      "Playing  72  th game\n",
      "Playing  73  th game\n",
      "Playing  74  th game\n",
      "Playing  75  th game\n",
      "Playing  76  th game\n",
      "Playing  77  th game\n",
      "Playing  78  th game\n",
      "Playing  79  th game\n",
      "Playing  80  th game\n",
      "Playing  81  th game\n",
      "Playing  82  th game\n",
      "Playing  83  th game\n",
      "Playing  84  th game\n",
      "Playing  85  th game\n",
      "Playing  86  th game\n",
      "Playing  87  th game\n",
      "Playing  88  th game\n",
      "Playing  89  th game\n",
      "Playing  90  th game\n",
      "Playing  91  th game\n",
      "Playing  92  th game\n",
      "Playing  93  th game\n",
      "Playing  94  th game\n",
      "Playing  95  th game\n",
      "Playing  96  th game\n",
      "Playing  97  th game\n",
      "Playing  98  th game\n",
      "Playing  99  th game\n",
      "Playing  100  th game\n",
      "Playing  101  th game\n",
      "Playing  102  th game\n",
      "Playing  103  th game\n",
      "Playing  104  th game\n",
      "Playing  105  th game\n",
      "Playing  106  th game\n",
      "Playing  107  th game\n",
      "Playing  108  th game\n",
      "Playing  109  th game\n",
      "Playing  110  th game\n",
      "Playing  111  th game\n",
      "Playing  112  th game\n",
      "Playing  113  th game\n",
      "Playing  114  th game\n",
      "Playing  115  th game\n",
      "Playing  116  th game\n",
      "Playing  117  th game\n",
      "Playing  118  th game\n",
      "Playing  119  th game\n",
      "Playing  120  th game\n",
      "Playing  121  th game\n",
      "Playing  122  th game\n",
      "Playing  123  th game\n",
      "Playing  124  th game\n",
      "Playing  125  th game\n",
      "Playing  126  th game\n",
      "Playing  127  th game\n",
      "Playing  128  th game\n",
      "Playing  129  th game\n",
      "Playing  130  th game\n",
      "Playing  131  th game\n",
      "Playing  132  th game\n",
      "Playing  133  th game\n",
      "Playing  134  th game\n",
      "Playing  135  th game\n",
      "Playing  136  th game\n",
      "Playing  137  th game\n",
      "Playing  138  th game\n",
      "Playing  139  th game\n",
      "Playing  140  th game\n",
      "Playing  141  th game\n",
      "Playing  142  th game\n",
      "Playing  143  th game\n",
      "Playing  144  th game\n",
      "Playing  145  th game\n",
      "Playing  146  th game\n",
      "Playing  147  th game\n",
      "Playing  148  th game\n",
      "Playing  149  th game\n",
      "Playing  150  th game\n",
      "Playing  151  th game\n",
      "Playing  152  th game\n",
      "Playing  153  th game\n",
      "Playing  154  th game\n",
      "Playing  155  th game\n",
      "Playing  156  th game\n",
      "Playing  157  th game\n",
      "Playing  158  th game\n",
      "Playing  159  th game\n",
      "Playing  160  th game\n"
     ]
    },
    {
     "ename": "HangmanAPIError",
     "evalue": "{'error': 'You have reached 1000 of games', 'status': 'denied'}",
     "output_type": "error",
     "traceback": [
      "\u001b[31m---------------------------------------------------------------------------\u001b[39m",
      "\u001b[31mHangmanAPIError\u001b[39m                           Traceback (most recent call last)",
      "\u001b[36mCell\u001b[39m\u001b[36m \u001b[39m\u001b[32mIn[18]\u001b[39m\u001b[32m, line 4\u001b[39m\n\u001b[32m      2\u001b[39m \u001b[38;5;28mprint\u001b[39m(\u001b[33m'\u001b[39m\u001b[33mPlaying \u001b[39m\u001b[33m'\u001b[39m, i, \u001b[33m'\u001b[39m\u001b[33m th game\u001b[39m\u001b[33m'\u001b[39m)\n\u001b[32m      3\u001b[39m \u001b[38;5;66;03m# Uncomment the following line to execute your final runs. Do not do this until you are satisfied with your submission\u001b[39;00m\n\u001b[32m----> \u001b[39m\u001b[32m4\u001b[39m \u001b[43mapi\u001b[49m\u001b[43m.\u001b[49m\u001b[43mstart_game\u001b[49m\u001b[43m(\u001b[49m\u001b[43mpractice\u001b[49m\u001b[43m=\u001b[49m\u001b[32;43m0\u001b[39;49m\u001b[43m,\u001b[49m\u001b[43mverbose\u001b[49m\u001b[43m=\u001b[49m\u001b[38;5;28;43;01mFalse\u001b[39;49;00m\u001b[43m)\u001b[49m\n\u001b[32m      6\u001b[39m \u001b[38;5;66;03m# DO NOT REMOVE as otherwise the server may lock you out for too high frequency of requests\u001b[39;00m\n\u001b[32m      7\u001b[39m time.sleep(\u001b[32m0.5\u001b[39m)\n",
      "\u001b[36mCell\u001b[39m\u001b[36m \u001b[39m\u001b[32mIn[16]\u001b[39m\u001b[32m, line 112\u001b[39m, in \u001b[36mHangmanAPI.start_game\u001b[39m\u001b[34m(self, practice, verbose)\u001b[39m\n\u001b[32m    109\u001b[39m \u001b[38;5;28mself\u001b[39m.guessed_letters = []\n\u001b[32m    110\u001b[39m \u001b[38;5;28mself\u001b[39m.current_dictionary = \u001b[38;5;28mself\u001b[39m.full_dictionary\n\u001b[32m--> \u001b[39m\u001b[32m112\u001b[39m response = \u001b[38;5;28;43mself\u001b[39;49m\u001b[43m.\u001b[49m\u001b[43mrequest\u001b[49m\u001b[43m(\u001b[49m\u001b[33;43m\"\u001b[39;49m\u001b[33;43m/new_game\u001b[39;49m\u001b[33;43m\"\u001b[39;49m\u001b[43m,\u001b[49m\u001b[43m \u001b[49m\u001b[43m{\u001b[49m\u001b[33;43m\"\u001b[39;49m\u001b[33;43mpractice\u001b[39;49m\u001b[33;43m\"\u001b[39;49m\u001b[43m:\u001b[49m\u001b[43mpractice\u001b[49m\u001b[43m}\u001b[49m\u001b[43m)\u001b[49m\n\u001b[32m    113\u001b[39m \u001b[38;5;28;01mif\u001b[39;00m response.get(\u001b[33m'\u001b[39m\u001b[33mstatus\u001b[39m\u001b[33m'\u001b[39m)==\u001b[33m\"\u001b[39m\u001b[33mapproved\u001b[39m\u001b[33m\"\u001b[39m:\n\u001b[32m    114\u001b[39m     game_id = response.get(\u001b[33m'\u001b[39m\u001b[33mgame_id\u001b[39m\u001b[33m'\u001b[39m)\n",
      "\u001b[36mCell\u001b[39m\u001b[36m \u001b[39m\u001b[32mIn[16]\u001b[39m\u001b[32m, line 214\u001b[39m, in \u001b[36mHangmanAPI.request\u001b[39m\u001b[34m(self, path, args, post_args, method)\u001b[39m\n\u001b[32m    211\u001b[39m     \u001b[38;5;28;01mraise\u001b[39;00m HangmanAPIError(\u001b[33m'\u001b[39m\u001b[33mMaintype was not text, or querystring\u001b[39m\u001b[33m'\u001b[39m)\n\u001b[32m    213\u001b[39m \u001b[38;5;28;01mif\u001b[39;00m result \u001b[38;5;129;01mand\u001b[39;00m \u001b[38;5;28misinstance\u001b[39m(result, \u001b[38;5;28mdict\u001b[39m) \u001b[38;5;129;01mand\u001b[39;00m result.get(\u001b[33m\"\u001b[39m\u001b[33merror\u001b[39m\u001b[33m\"\u001b[39m):\n\u001b[32m--> \u001b[39m\u001b[32m214\u001b[39m     \u001b[38;5;28;01mraise\u001b[39;00m HangmanAPIError(result)\n\u001b[32m    215\u001b[39m \u001b[38;5;28;01mreturn\u001b[39;00m result\n",
      "\u001b[31mHangmanAPIError\u001b[39m: {'error': 'You have reached 1000 of games', 'status': 'denied'}"
     ]
    }
   ],
   "source": [
    "for i in range(1000):\n",
    "    print('Playing ', i, ' th game')\n",
    "    # Uncomment the following line to execute your final runs. Do not do this until you are satisfied with your submission\n",
    "    api.start_game(practice=0,verbose=False)\n",
    "    \n",
    "    # DO NOT REMOVE as otherwise the server may lock you out for too high frequency of requests\n",
    "    time.sleep(0.5)"
   ]
  },
  {
   "cell_type": "markdown",
   "metadata": {},
   "source": [
    "## To check your game statistics\n",
    "1. Simply use \"my_status\" method.\n",
    "2. Returns your total number of games, and number of wins."
   ]
  },
  {
   "cell_type": "code",
   "execution_count": 19,
   "metadata": {},
   "outputs": [
    {
     "name": "stdout",
     "output_type": "stream",
     "text": [
      "overall success rate = 0.610\n"
     ]
    }
   ],
   "source": [
    "[total_practice_runs,total_recorded_runs,total_recorded_successes,total_practice_successes] = api.my_status() # Get my game stats: (# of tries, # of wins)\n",
    "success_rate = total_r\n",
    "ecorded_successes/total_recorded_runs\n",
    "print('overall success rate = %.3f' % success_rate)"
   ]
  },
  {
   "cell_type": "code",
   "execution_count": null,
   "metadata": {
    "collapsed": true,
    "jupyter": {
     "outputs_hidden": true
    }
   },
   "outputs": [],
   "source": []
  }
 ],
 "metadata": {
  "kernelspec": {
   "display_name": "Python 3 (ipykernel)",
   "language": "python",
   "name": "python3"
  },
  "language_info": {
   "codemirror_mode": {
    "name": "ipython",
    "version": 3
   },
   "file_extension": ".py",
   "mimetype": "text/x-python",
   "name": "python",
   "nbconvert_exporter": "python",
   "pygments_lexer": "ipython3",
   "version": "3.11.6"
  }
 },
 "nbformat": 4,
 "nbformat_minor": 4
}
